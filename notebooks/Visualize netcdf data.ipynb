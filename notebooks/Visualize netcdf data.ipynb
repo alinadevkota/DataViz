{
 "cells": [
  {
   "cell_type": "code",
   "execution_count": 26,
   "id": "36bc4b5e",
   "metadata": {},
   "outputs": [],
   "source": [
    "import netCDF4 as nc\n",
    "import pandas as pd\n",
    "from datetime import datetime\n",
    "from scipy.constants import Boltzmann\n",
    "from scipy import log"
   ]
  },
  {
   "cell_type": "code",
   "execution_count": 2,
   "id": "64124d1f",
   "metadata": {},
   "outputs": [],
   "source": [
    "def get_dataframe_from_nc_file(nc_file_path):\n",
    "    ds = nc.Dataset(nc_file_path)\n",
    "    longitude = ds['longitude'][:]\n",
    "    latitude = ds['latitude'][:]\n",
    "    level = ds['level'][:]\n",
    "    time = ds['time']\n",
    "    time_convert = nc.num2date(time[:], time.units, time.calendar)[:]\n",
    "    t = ds['t'][:]\n",
    "    \n",
    "    rows = []\n",
    "    for time_i, a in enumerate(t):\n",
    "        for level_i, b in enumerate(a):\n",
    "            for lat_i, c in enumerate(b):\n",
    "                for lon_i, d in enumerate(c):\n",
    "                    rows.append({\n",
    "                        'Latitude': latitude[lat_i],\n",
    "                        'Longitude': longitude[lon_i],\n",
    "                        'Time': time_convert[time_i],\n",
    "                        'PressureLevel': level[level_i],\n",
    "                        'Temperature': d\n",
    "                    })\n",
    "    df = pd.DataFrame(rows)\n",
    "    df.to_csv(f'{nc_file_path[:-3]}.csv')\n",
    "    return df\n",
    "    "
   ]
  },
  {
   "cell_type": "code",
   "execution_count": 3,
   "id": "033b13ab",
   "metadata": {},
   "outputs": [],
   "source": [
    "def get_average_temperature_of_a_day(df):\n",
    "    df['date_only'] = df.apply(lambda x: datetime.strptime(str(x['Time']),'%Y-%m-%d %H:%M:%S').date(), axis=1)\n",
    "    df = df.groupby(['date_only', 'PressureLevel'], as_index=False)['Temperature'].mean()\n",
    "    return df"
   ]
  },
  {
   "cell_type": "code",
   "execution_count": 27,
   "id": "32b0c23a",
   "metadata": {},
   "outputs": [],
   "source": [
    "def convert_pressure_to_altitude(p_level, temp):\n",
    "    K = Boltzmann\n",
    "    m = 28.97\n",
    "    g = 9.8\n",
    "    P0 = 1013\n",
    "    P = p_level * 100\n",
    "    \n",
    "    H = K * temp / (m * g) \n",
    "    Z = H * log(P0/P)\n",
    "    return Z\n",
    "    "
   ]
  },
  {
   "cell_type": "code",
   "execution_count": 4,
   "id": "e6e67064",
   "metadata": {},
   "outputs": [],
   "source": [
    "dfs = []\n",
    "nc_file_list = ['2021_jan2apr.nc', '2021_sep2dec.nc']\n",
    "\n",
    "for file in nc_file_list:\n",
    "    df = get_dataframe_from_nc_file(file)\n",
    "    df = get_average_temperature_of_a_day(df)\n",
    "    dfs.append(df)"
   ]
  },
  {
   "cell_type": "code",
   "execution_count": 5,
   "id": "52804087",
   "metadata": {},
   "outputs": [],
   "source": [
    "final_df = pd.concat(dfs).reset_index(drop=True)"
   ]
  },
  {
   "cell_type": "code",
   "execution_count": 28,
   "id": "18a5a1a9",
   "metadata": {},
   "outputs": [
    {
     "name": "stderr",
     "output_type": "stream",
     "text": [
      "/home/lenovo/miniconda3/envs/manisha/lib/python3.6/site-packages/ipykernel_launcher.py:9: DeprecationWarning: scipy.log is deprecated and will be removed in SciPy 2.0.0, use numpy.lib.scimath.log instead\n",
      "  if __name__ == '__main__':\n"
     ]
    }
   ],
   "source": [
    "final_df['Day'] = final_df.apply(lambda x: x['date_only'].timetuple().tm_yday, axis=1)\n",
    "final_df['Month'] = final_df.apply(lambda x: x['date_only'].month, axis=1)\n",
    "final_df['Height'] = final_df.apply(lambda x: convert_pressure_to_altitude(x['PressureLevel'], x['Temperature']), axis=1)"
   ]
  },
  {
   "cell_type": "code",
   "execution_count": 29,
   "id": "b461c909",
   "metadata": {},
   "outputs": [
    {
     "data": {
      "text/html": [
       "<div>\n",
       "<style scoped>\n",
       "    .dataframe tbody tr th:only-of-type {\n",
       "        vertical-align: middle;\n",
       "    }\n",
       "\n",
       "    .dataframe tbody tr th {\n",
       "        vertical-align: top;\n",
       "    }\n",
       "\n",
       "    .dataframe thead th {\n",
       "        text-align: right;\n",
       "    }\n",
       "</style>\n",
       "<table border=\"1\" class=\"dataframe\">\n",
       "  <thead>\n",
       "    <tr style=\"text-align: right;\">\n",
       "      <th></th>\n",
       "      <th>date_only</th>\n",
       "      <th>PressureLevel</th>\n",
       "      <th>Temperature</th>\n",
       "      <th>Day</th>\n",
       "      <th>Month</th>\n",
       "      <th>Height</th>\n",
       "    </tr>\n",
       "  </thead>\n",
       "  <tbody>\n",
       "    <tr>\n",
       "      <th>0</th>\n",
       "      <td>2021-01-01</td>\n",
       "      <td>1</td>\n",
       "      <td>253.939596</td>\n",
       "      <td>1</td>\n",
       "      <td>1</td>\n",
       "      <td>2.859461e-23</td>\n",
       "    </tr>\n",
       "    <tr>\n",
       "      <th>1</th>\n",
       "      <td>2021-01-01</td>\n",
       "      <td>2</td>\n",
       "      <td>248.117071</td>\n",
       "      <td>1</td>\n",
       "      <td>1</td>\n",
       "      <td>1.957542e-23</td>\n",
       "    </tr>\n",
       "    <tr>\n",
       "      <th>2</th>\n",
       "      <td>2021-01-01</td>\n",
       "      <td>3</td>\n",
       "      <td>240.647872</td>\n",
       "      <td>1</td>\n",
       "      <td>1</td>\n",
       "      <td>1.424104e-23</td>\n",
       "    </tr>\n",
       "    <tr>\n",
       "      <th>3</th>\n",
       "      <td>2021-01-01</td>\n",
       "      <td>5</td>\n",
       "      <td>231.591278</td>\n",
       "      <td>1</td>\n",
       "      <td>1</td>\n",
       "      <td>7.951968e-24</td>\n",
       "    </tr>\n",
       "    <tr>\n",
       "      <th>4</th>\n",
       "      <td>2021-01-01</td>\n",
       "      <td>7</td>\n",
       "      <td>228.517443</td>\n",
       "      <td>1</td>\n",
       "      <td>1</td>\n",
       "      <td>4.107236e-24</td>\n",
       "    </tr>\n",
       "    <tr>\n",
       "      <th>...</th>\n",
       "      <td>...</td>\n",
       "      <td>...</td>\n",
       "      <td>...</td>\n",
       "      <td>...</td>\n",
       "      <td>...</td>\n",
       "      <td>...</td>\n",
       "    </tr>\n",
       "    <tr>\n",
       "      <th>8949</th>\n",
       "      <td>2021-12-31</td>\n",
       "      <td>900</td>\n",
       "      <td>284.619778</td>\n",
       "      <td>365</td>\n",
       "      <td>12</td>\n",
       "      <td>-6.210400e-23</td>\n",
       "    </tr>\n",
       "    <tr>\n",
       "      <th>8950</th>\n",
       "      <td>2021-12-31</td>\n",
       "      <td>925</td>\n",
       "      <td>286.311245</td>\n",
       "      <td>365</td>\n",
       "      <td>12</td>\n",
       "      <td>-6.285456e-23</td>\n",
       "    </tr>\n",
       "    <tr>\n",
       "      <th>8951</th>\n",
       "      <td>2021-12-31</td>\n",
       "      <td>950</td>\n",
       "      <td>287.664449</td>\n",
       "      <td>365</td>\n",
       "      <td>12</td>\n",
       "      <td>-6.352470e-23</td>\n",
       "    </tr>\n",
       "    <tr>\n",
       "      <th>8952</th>\n",
       "      <td>2021-12-31</td>\n",
       "      <td>975</td>\n",
       "      <td>289.215775</td>\n",
       "      <td>365</td>\n",
       "      <td>12</td>\n",
       "      <td>-6.423262e-23</td>\n",
       "    </tr>\n",
       "    <tr>\n",
       "      <th>8953</th>\n",
       "      <td>2021-12-31</td>\n",
       "      <td>1000</td>\n",
       "      <td>290.587784</td>\n",
       "      <td>365</td>\n",
       "      <td>12</td>\n",
       "      <td>-6.489511e-23</td>\n",
       "    </tr>\n",
       "  </tbody>\n",
       "</table>\n",
       "<p>8954 rows × 6 columns</p>\n",
       "</div>"
      ],
      "text/plain": [
       "       date_only  PressureLevel  Temperature  Day  Month        Height\n",
       "0     2021-01-01              1   253.939596    1      1  2.859461e-23\n",
       "1     2021-01-01              2   248.117071    1      1  1.957542e-23\n",
       "2     2021-01-01              3   240.647872    1      1  1.424104e-23\n",
       "3     2021-01-01              5   231.591278    1      1  7.951968e-24\n",
       "4     2021-01-01              7   228.517443    1      1  4.107236e-24\n",
       "...          ...            ...          ...  ...    ...           ...\n",
       "8949  2021-12-31            900   284.619778  365     12 -6.210400e-23\n",
       "8950  2021-12-31            925   286.311245  365     12 -6.285456e-23\n",
       "8951  2021-12-31            950   287.664449  365     12 -6.352470e-23\n",
       "8952  2021-12-31            975   289.215775  365     12 -6.423262e-23\n",
       "8953  2021-12-31           1000   290.587784  365     12 -6.489511e-23\n",
       "\n",
       "[8954 rows x 6 columns]"
      ]
     },
     "execution_count": 29,
     "metadata": {},
     "output_type": "execute_result"
    }
   ],
   "source": [
    "final_df"
   ]
  },
  {
   "cell_type": "code",
   "execution_count": 7,
   "id": "b8cb6db8",
   "metadata": {},
   "outputs": [],
   "source": [
    "import matplotlib.pyplot as plt\n",
    "from matplotlib.ticker import AutoMinorLocator, MultipleLocator"
   ]
  },
  {
   "cell_type": "code",
   "execution_count": 25,
   "id": "2433307d",
   "metadata": {},
   "outputs": [
    {
     "data": {
      "image/png": "[encoded data removed]",
      "text/plain": [
       "<Figure size 576x252 with 1 Axes>"
      ]
     },
     "metadata": {
      "needs_background": "light"
     },
     "output_type": "display_data"
    }
   ],
   "source": [
    "fig,ax = plt.subplots(1, figsize=(8,3.5))\n",
    "\n",
    "month_df = final_df.groupby(['Month','PressureLevel'], as_index=False)['Temperature'].mean()\n",
    "group_month = month_df.groupby(['Month'])\n",
    "\n",
    "for month, df in group_month:\n",
    "    heights = df[\"PressureLevel\"].values\n",
    "    avg_temp = df[\"Temperature\"].values\n",
    "    ax.plot(heights, avg_temp, label=month)\n",
    "    \n",
    "ax.set_xlabel(\"PressureLevel\", fontsize=20)\n",
    "ax.set_ylabel(\"Temperature(K)\", fontsize=20)\n",
    "ax.xaxis.set_major_locator(MultipleLocator(10))\n",
    "ax.yaxis.set_major_locator(MultipleLocator(25))\n",
    "ax.grid()\n",
    "plt.legend(loc=(1.04,0))\n",
    "plt.savefig('./output/month_wise_line_plot_netcdf.pdf')\n",
    "plt.show()"
   ]
  },
  {
   "cell_type": "code",
   "execution_count": null,
   "id": "5df2a982",
   "metadata": {},
   "outputs": [],
   "source": []
  }
 ],
 "metadata": {
  "kernelspec": {
   "display_name": "manisha",
   "language": "python",
   "name": "manisha"
  },
  "language_info": {
   "codemirror_mode": {
    "name": "ipython",
    "version": 3
   },
   "file_extension": ".py",
   "mimetype": "text/x-python",
   "name": "python",
   "nbconvert_exporter": "python",
   "pygments_lexer": "ipython3",
   "version": "3.6.13"
  }
 },
 "nbformat": 4,
 "nbformat_minor": 5
}
